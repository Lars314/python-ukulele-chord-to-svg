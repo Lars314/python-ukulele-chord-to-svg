{
 "cells": [
  {
   "cell_type": "markdown",
   "metadata": {},
   "source": [
    "# Creating Ukulele Chord Diagrams in SVG with Python"
   ]
  },
  {
   "cell_type": "markdown",
   "metadata": {},
   "source": [
    "With the Python modul __uchord__ you can create ukulele chord diagrams in SVG format.   "
   ]
  },
  {
   "cell_type": "code",
   "execution_count": 18,
   "metadata": {
    "tags": []
   },
   "outputs": [],
   "source": [
    "import uchord\n",
    "\n",
    "uchord.write_chord('c.svg','C','0003')"
   ]
  },
  {
   "cell_type": "markdown",
   "metadata": {},
   "source": [
    "<img src=\"pic/c.svg\" align=\"left\"><br><br><br><br><br>"
   ]
  },
  {
   "cell_type": "markdown",
   "metadata": {},
   "source": [
    "If you like it, use it. If you have some suggestions, tell me (gkvoelkl@nelson-games.de)."
   ]
  },
  {
   "cell_type": "markdown",
   "metadata": {},
   "source": [
    "# Thanks"
   ]
  },
  {
   "cell_type": "markdown",
   "metadata": {},
   "source": [
    "Special thanks to the project https://github.com/pianosnake/uke-chord where I learned much about \n",
    "SVG and chord diagrams. I recycled some of the svg commands."
   ]
  },
  {
   "cell_type": "markdown",
   "metadata": {},
   "source": [
    "# Installation"
   ]
  },
  {
   "cell_type": "markdown",
   "metadata": {},
   "source": [
    "* First you need Python 3 (https://www.python.org, ) - Python 3.6 should work, because it's the development environment\n",
    "* And this modul uchord - simply copy the source\n",
    "\n",
    "Or try"
   ]
  },
  {
   "cell_type": "code",
   "execution_count": null,
   "metadata": {
    "collapsed": true,
    "jupyter": {
     "outputs_hidden": true
    }
   },
   "outputs": [],
   "source": [
    "pip install uchord"
   ]
  },
  {
   "cell_type": "markdown",
   "metadata": {},
   "source": [
    "That should work."
   ]
  },
  {
   "cell_type": "markdown",
   "metadata": {},
   "source": [
    "# Changelog"
   ]
  },
  {
   "cell_type": "markdown",
   "metadata": {},
   "source": [
    "|Version       |                                                                                          |\n",
    "|--------------|------------------------------------------------------------------------------------------|\n",
    "|  0.1.0       | To start with|"
   ]
  },
  {
   "cell_type": "markdown",
   "metadata": {},
   "source": [
    "# Example"
   ]
  },
  {
   "cell_type": "markdown",
   "metadata": {},
   "source": [
    "The ukulele chord diagrams are a picture of the fretboard.\n",
    "The four strings are the vertical lines. The dots are the places where your fingers should be."
   ]
  },
  {
   "cell_type": "markdown",
   "metadata": {},
   "source": [
    "<img src=\"pic/f.svg\" align=\"left\"><br><br><br><br><br>"
   ]
  },
  {
   "cell_type": "markdown",
   "metadata": {},
   "source": [
    "For example the F major chord. You have to put one finger at the __second__ fret of the first string and one at the __first__ fret of the third string. String two and four are empty.\n"
   ]
  },
  {
   "cell_type": "markdown",
   "metadata": {},
   "source": [
    "The number *2010* represents the F chord. Every digit stands for a string. This representation is used in *uchord*, too."
   ]
  },
  {
   "cell_type": "code",
   "execution_count": 1,
   "metadata": {
    "collapsed": true,
    "jupyter": {
     "outputs_hidden": true
    }
   },
   "outputs": [],
   "source": [
    "import uchord\n",
    "\n",
    "uchord.write_chord('f.svg','F','2010')"
   ]
  },
  {
   "cell_type": "markdown",
   "metadata": {},
   "source": [
    "If you want to specify which finger should be used for which fret, use the paremeter *fingers*. For an empty string stands the underline."
   ]
  },
  {
   "cell_type": "code",
   "execution_count": null,
   "metadata": {
    "collapsed": true,
    "jupyter": {
     "outputs_hidden": true
    }
   },
   "outputs": [],
   "source": [
    "uchord.write_chord('f.svg','F','2010',fingers='2_1_')"
   ]
  },
  {
   "cell_type": "markdown",
   "metadata": {},
   "source": [
    "<img src=\"pic/ff.svg\" align=\"left\"><br><br><br><br><br>"
   ]
  },
  {
   "cell_type": "markdown",
   "metadata": {},
   "source": [
    "For marking the root note or other texts under the chord you can use the parmeter *subtexts*"
   ]
  },
  {
   "cell_type": "code",
   "execution_count": 4,
   "metadata": {},
   "outputs": [],
   "source": [
    "uchord.write_chord('f.svg','F','2010',fingers='2_1_',subtexts='__R_')"
   ]
  },
  {
   "cell_type": "markdown",
   "metadata": {},
   "source": [
    "<img src=\"pic/ffs.svg\" align=\"left\"><br><br><br><br><br>"
   ]
  },
  {
   "cell_type": "markdown",
   "metadata": {},
   "source": [
    "If a chord is played higher up the fret, you can specify the fret to start with. Parameter *starting_fret*"
   ]
  },
  {
   "cell_type": "code",
   "execution_count": null,
   "metadata": {
    "collapsed": true,
    "jupyter": {
     "outputs_hidden": true
    }
   },
   "outputs": [],
   "source": [
    "uchord.write_chord('dm7.svg','Dm7','7988',fingers='1423',starting_fret=6)"
   ]
  },
  {
   "cell_type": "markdown",
   "metadata": {},
   "source": [
    "<img src=\"pic/dm7.svg\" align=\"left\"><br><br><br><br><br>"
   ]
  },
  {
   "cell_type": "markdown",
   "metadata": {},
   "source": [
    "## Using Class Chord and Chords"
   ]
  },
  {
   "cell_type": "markdown",
   "metadata": {},
   "source": [
    "The modul *uchord* has the class *Chord* which reprents a specific chord."
   ]
  },
  {
   "cell_type": "code",
   "execution_count": 7,
   "metadata": {
    "tags": []
   },
   "outputs": [],
   "source": [
    "from uchord import Chord\n",
    "\n",
    "c = Chord('F','2010',fingers='2_1_',subtexts='__R_')"
   ]
  },
  {
   "cell_type": "markdown",
   "metadata": {},
   "source": [
    "With the method *to_svg* you get the svg string"
   ]
  },
  {
   "cell_type": "code",
   "execution_count": 8,
   "metadata": {
    "tags": []
   },
   "outputs": [],
   "source": [
    "svg = c.to_svg()"
   ]
  },
  {
   "cell_type": "markdown",
   "metadata": {},
   "source": [
    "The class *Chords* stands for a list of chords."
   ]
  },
  {
   "cell_type": "code",
   "execution_count": 9,
   "metadata": {},
   "outputs": [],
   "source": [
    "from uchord import Chords\n",
    "\n",
    "c = Chords([Chord(\"F7\",\"2313\",fingers=\"2314\",subtexts=\"__R_\"),\n",
    "            Chord(\"C7\",\"0001\",fingers=\"___1\",subtexts=\"_R__\"),\n",
    "            Chord(\"G7\",\"0212\",fingers=\"_213\",subtexts=\"R___\"),\n",
    "            Chord(\"A7\",\"0100\",fingers=\"_1__\",subtexts=\"___R\")])\n",
    "svg = c.to_svg()"
   ]
  },
  {
   "cell_type": "markdown",
   "metadata": {},
   "source": [
    "## With IPython and Jupyter"
   ]
  },
  {
   "cell_type": "markdown",
   "metadata": {},
   "source": [
    "With *IPython.display* you can use the chords in a notebook."
   ]
  },
  {
   "cell_type": "code",
   "execution_count": 10,
   "metadata": {},
   "outputs": [
    {
     "data": {
      "image/svg+xml": [
       "<svg xmlns=\"http://www.w3.org/2000/svg\" xmlns:xlink=\"http://www.w3.org/1999/xlink\" width=\"100%\" height=\"100%\" style=\"font-family: sans-serif; font-size: 11px;\">\n",
       "        <g transform=\"translate(0,24)\">\n",
       "      <text id=\"chordName\" x=\"42\" y=\"12\" text-anchor=\"middle\" style=\"font-size: 16px;\">F7</text>\n",
       "      <text id=\"startingFret\" x=\"0\" y=\"40\" style=\"visibility: hidden;\">1</text>\n",
       "      <g id=\"svgChord\" transform=\"translate(9,24)\">\n",
       "        <g id=\"strings\" transform=\"translate(0,2)\">\n",
       "          <rect height=\"80\" width=\"2\" x=\"0\" fill=\"black\"/>\n",
       "          <rect height=\"80\" width=\"2\" x=\"20\" fill=\"black\"/>\n",
       "          <rect height=\"80\" width=\"2\" x=\"40\" fill=\"black\"/>\n",
       "          <rect height=\"80\" width=\"2\" x=\"60\" fill=\"black\"/>\n",
       "        </g>\n",
       "        <g id=\"frets\" transform=\"translate(0,2)\">\n",
       "          <rect height=\"2\" width=\"62\" y=\"0\" fill=\"black\"/>\n",
       "          <rect height=\"2\" width=\"62\" y=\"20\" fill=\"black\"/>\n",
       "          <rect height=\"2\" width=\"62\" y=\"40\" fill=\"black\"/>\n",
       "          <rect height=\"2\" width=\"62\" y=\"60\" fill=\"black\"/>\n",
       "          <rect height=\"2\" width=\"62\" y=\"80\" fill=\"black\"/>\n",
       "        </g>\n",
       "        <g id=\"closedStrings\" transform=\"translate(1,12)\">\n",
       "          <g id=\"closedString0\" transform=\"translate(0,20)\" style=\"visibility: visible;\">\n",
       "            <circle r=\"6\"/>\n",
       "            <text fill=\"white\" id=\"finger0\" y=\"4\" text-anchor=\"middle\">2</text>\n",
       "          </g>\n",
       "          <g id=\"closedString1\" transform=\"translate(20,40)\" style=\"visibility: visible;\">\n",
       "            <circle r=\"6\"/>\n",
       "            <text fill=\"white\" id=\"finger1\" y=\"4\" text-anchor=\"middle\">3</text>\n",
       "          </g>\n",
       "          <g id=\"closedString2\" transform=\"translate(40,0)\" style=\"visibility: visible;\">\n",
       "            <circle r=\"6\"/>\n",
       "            <text fill=\"white\" id=\"finger2\" y=\"4\" text-anchor=\"middle\">1</text>\n",
       "          </g>\n",
       "          <g id=\"closedString3\" transform=\"translate(60,40)\" style=\"visibility: visible;\">\n",
       "            <circle r=\"6\"/>\n",
       "            <text fill=\"white\" id=\"finger3\" y=\"4\" text-anchor=\"middle\">4</text>\n",
       "          </g>\n",
       "        </g>\n",
       "        <g id=\"openStrings\" transform=\"translate(1,-5)\">\n",
       "          <circle id=\"openString0\" cx=\"0\" r=\"4\" fill=\"none\" stroke=\"black\" stroke-width=\"1\" style=\"visibility: hidden;\"/>\n",
       "          <circle id=\"openString1\" cx=\"20\" r=\"4\" fill=\"none\" stroke=\"black\" stroke-width=\"1\" style=\"visibility: hidden;\"/>\n",
       "          <circle id=\"openString2\" cx=\"40\" r=\"4\" fill=\"none\" stroke=\"black\" stroke-width=\"1\" style=\"visibility: hidden;\"/>\n",
       "          <circle id=\"openString3\" cx=\"60\" r=\"4\" fill=\"none\" stroke=\"black\" stroke-width=\"1\" style=\"visibility: hidden;\"/>\n",
       "        </g>\n",
       "        <g id=\"subText\" transform=\"translate(1,98)\">\n",
       "          <text id=\"subText0\" x=\"0\" text-anchor=\"middle\"/>\n",
       "          <text id=\"subText1\" x=\"20\" text-anchor=\"middle\"/>\n",
       "          <text id=\"subText2\" x=\"40\" text-anchor=\"middle\">R</text>\n",
       "          <text id=\"subText3\" x=\"60\" text-anchor=\"middle\"/>\n",
       "        </g>\n",
       "      </g>\n",
       "        </g><g transform=\"translate(80,24)\">\n",
       "      <text id=\"chordName\" x=\"42\" y=\"12\" text-anchor=\"middle\" style=\"font-size: 16px;\">C7</text>\n",
       "      <text id=\"startingFret\" x=\"0\" y=\"40\" style=\"visibility: hidden;\">1</text>\n",
       "      <g id=\"svgChord\" transform=\"translate(9,24)\">\n",
       "        <g id=\"strings\" transform=\"translate(0,2)\">\n",
       "          <rect height=\"80\" width=\"2\" x=\"0\" fill=\"black\"/>\n",
       "          <rect height=\"80\" width=\"2\" x=\"20\" fill=\"black\"/>\n",
       "          <rect height=\"80\" width=\"2\" x=\"40\" fill=\"black\"/>\n",
       "          <rect height=\"80\" width=\"2\" x=\"60\" fill=\"black\"/>\n",
       "        </g>\n",
       "        <g id=\"frets\" transform=\"translate(0,2)\">\n",
       "          <rect height=\"2\" width=\"62\" y=\"0\" fill=\"black\"/>\n",
       "          <rect height=\"2\" width=\"62\" y=\"20\" fill=\"black\"/>\n",
       "          <rect height=\"2\" width=\"62\" y=\"40\" fill=\"black\"/>\n",
       "          <rect height=\"2\" width=\"62\" y=\"60\" fill=\"black\"/>\n",
       "          <rect height=\"2\" width=\"62\" y=\"80\" fill=\"black\"/>\n",
       "        </g>\n",
       "        <g id=\"closedStrings\" transform=\"translate(1,12)\">\n",
       "          <g id=\"closedString0\" transform=\"translate(0,-20)\" style=\"visibility: hidden;\">\n",
       "            <circle r=\"6\"/>\n",
       "            <text fill=\"white\" id=\"finger0\" y=\"4\" text-anchor=\"middle\"/>\n",
       "          </g>\n",
       "          <g id=\"closedString1\" transform=\"translate(20,-20)\" style=\"visibility: hidden;\">\n",
       "            <circle r=\"6\"/>\n",
       "            <text fill=\"white\" id=\"finger1\" y=\"4\" text-anchor=\"middle\"/>\n",
       "          </g>\n",
       "          <g id=\"closedString2\" transform=\"translate(40,-20)\" style=\"visibility: hidden;\">\n",
       "            <circle r=\"6\"/>\n",
       "            <text fill=\"white\" id=\"finger2\" y=\"4\" text-anchor=\"middle\"/>\n",
       "          </g>\n",
       "          <g id=\"closedString3\" transform=\"translate(60,0)\" style=\"visibility: visible;\">\n",
       "            <circle r=\"6\"/>\n",
       "            <text fill=\"white\" id=\"finger3\" y=\"4\" text-anchor=\"middle\">1</text>\n",
       "          </g>\n",
       "        </g>\n",
       "        <g id=\"openStrings\" transform=\"translate(1,-5)\">\n",
       "          <circle id=\"openString0\" cx=\"0\" r=\"4\" fill=\"none\" stroke=\"black\" stroke-width=\"1\" style=\"visibility: visible;\"/>\n",
       "          <circle id=\"openString1\" cx=\"20\" r=\"4\" fill=\"none\" stroke=\"black\" stroke-width=\"1\" style=\"visibility: visible;\"/>\n",
       "          <circle id=\"openString2\" cx=\"40\" r=\"4\" fill=\"none\" stroke=\"black\" stroke-width=\"1\" style=\"visibility: visible;\"/>\n",
       "          <circle id=\"openString3\" cx=\"60\" r=\"4\" fill=\"none\" stroke=\"black\" stroke-width=\"1\" style=\"visibility: hidden;\"/>\n",
       "        </g>\n",
       "        <g id=\"subText\" transform=\"translate(1,98)\">\n",
       "          <text id=\"subText0\" x=\"0\" text-anchor=\"middle\"/>\n",
       "          <text id=\"subText1\" x=\"20\" text-anchor=\"middle\">R</text>\n",
       "          <text id=\"subText2\" x=\"40\" text-anchor=\"middle\"/>\n",
       "          <text id=\"subText3\" x=\"60\" text-anchor=\"middle\"/>\n",
       "        </g>\n",
       "      </g>\n",
       "        </g><g transform=\"translate(160,24)\">\n",
       "      <text id=\"chordName\" x=\"42\" y=\"12\" text-anchor=\"middle\" style=\"font-size: 16px;\">G7</text>\n",
       "      <text id=\"startingFret\" x=\"0\" y=\"40\" style=\"visibility: hidden;\">1</text>\n",
       "      <g id=\"svgChord\" transform=\"translate(9,24)\">\n",
       "        <g id=\"strings\" transform=\"translate(0,2)\">\n",
       "          <rect height=\"80\" width=\"2\" x=\"0\" fill=\"black\"/>\n",
       "          <rect height=\"80\" width=\"2\" x=\"20\" fill=\"black\"/>\n",
       "          <rect height=\"80\" width=\"2\" x=\"40\" fill=\"black\"/>\n",
       "          <rect height=\"80\" width=\"2\" x=\"60\" fill=\"black\"/>\n",
       "        </g>\n",
       "        <g id=\"frets\" transform=\"translate(0,2)\">\n",
       "          <rect height=\"2\" width=\"62\" y=\"0\" fill=\"black\"/>\n",
       "          <rect height=\"2\" width=\"62\" y=\"20\" fill=\"black\"/>\n",
       "          <rect height=\"2\" width=\"62\" y=\"40\" fill=\"black\"/>\n",
       "          <rect height=\"2\" width=\"62\" y=\"60\" fill=\"black\"/>\n",
       "          <rect height=\"2\" width=\"62\" y=\"80\" fill=\"black\"/>\n",
       "        </g>\n",
       "        <g id=\"closedStrings\" transform=\"translate(1,12)\">\n",
       "          <g id=\"closedString0\" transform=\"translate(0,-20)\" style=\"visibility: hidden;\">\n",
       "            <circle r=\"6\"/>\n",
       "            <text fill=\"white\" id=\"finger0\" y=\"4\" text-anchor=\"middle\"/>\n",
       "          </g>\n",
       "          <g id=\"closedString1\" transform=\"translate(20,20)\" style=\"visibility: visible;\">\n",
       "            <circle r=\"6\"/>\n",
       "            <text fill=\"white\" id=\"finger1\" y=\"4\" text-anchor=\"middle\">2</text>\n",
       "          </g>\n",
       "          <g id=\"closedString2\" transform=\"translate(40,0)\" style=\"visibility: visible;\">\n",
       "            <circle r=\"6\"/>\n",
       "            <text fill=\"white\" id=\"finger2\" y=\"4\" text-anchor=\"middle\">1</text>\n",
       "          </g>\n",
       "          <g id=\"closedString3\" transform=\"translate(60,20)\" style=\"visibility: visible;\">\n",
       "            <circle r=\"6\"/>\n",
       "            <text fill=\"white\" id=\"finger3\" y=\"4\" text-anchor=\"middle\">3</text>\n",
       "          </g>\n",
       "        </g>\n",
       "        <g id=\"openStrings\" transform=\"translate(1,-5)\">\n",
       "          <circle id=\"openString0\" cx=\"0\" r=\"4\" fill=\"none\" stroke=\"black\" stroke-width=\"1\" style=\"visibility: visible;\"/>\n",
       "          <circle id=\"openString1\" cx=\"20\" r=\"4\" fill=\"none\" stroke=\"black\" stroke-width=\"1\" style=\"visibility: hidden;\"/>\n",
       "          <circle id=\"openString2\" cx=\"40\" r=\"4\" fill=\"none\" stroke=\"black\" stroke-width=\"1\" style=\"visibility: hidden;\"/>\n",
       "          <circle id=\"openString3\" cx=\"60\" r=\"4\" fill=\"none\" stroke=\"black\" stroke-width=\"1\" style=\"visibility: hidden;\"/>\n",
       "        </g>\n",
       "        <g id=\"subText\" transform=\"translate(1,98)\">\n",
       "          <text id=\"subText0\" x=\"0\" text-anchor=\"middle\">R</text>\n",
       "          <text id=\"subText1\" x=\"20\" text-anchor=\"middle\"/>\n",
       "          <text id=\"subText2\" x=\"40\" text-anchor=\"middle\"/>\n",
       "          <text id=\"subText3\" x=\"60\" text-anchor=\"middle\"/>\n",
       "        </g>\n",
       "      </g>\n",
       "        </g><g transform=\"translate(240,24)\">\n",
       "      <text id=\"chordName\" x=\"42\" y=\"12\" text-anchor=\"middle\" style=\"font-size: 16px;\">A7</text>\n",
       "      <text id=\"startingFret\" x=\"0\" y=\"40\" style=\"visibility: hidden;\">1</text>\n",
       "      <g id=\"svgChord\" transform=\"translate(9,24)\">\n",
       "        <g id=\"strings\" transform=\"translate(0,2)\">\n",
       "          <rect height=\"80\" width=\"2\" x=\"0\" fill=\"black\"/>\n",
       "          <rect height=\"80\" width=\"2\" x=\"20\" fill=\"black\"/>\n",
       "          <rect height=\"80\" width=\"2\" x=\"40\" fill=\"black\"/>\n",
       "          <rect height=\"80\" width=\"2\" x=\"60\" fill=\"black\"/>\n",
       "        </g>\n",
       "        <g id=\"frets\" transform=\"translate(0,2)\">\n",
       "          <rect height=\"2\" width=\"62\" y=\"0\" fill=\"black\"/>\n",
       "          <rect height=\"2\" width=\"62\" y=\"20\" fill=\"black\"/>\n",
       "          <rect height=\"2\" width=\"62\" y=\"40\" fill=\"black\"/>\n",
       "          <rect height=\"2\" width=\"62\" y=\"60\" fill=\"black\"/>\n",
       "          <rect height=\"2\" width=\"62\" y=\"80\" fill=\"black\"/>\n",
       "        </g>\n",
       "        <g id=\"closedStrings\" transform=\"translate(1,12)\">\n",
       "          <g id=\"closedString0\" transform=\"translate(0,-20)\" style=\"visibility: hidden;\">\n",
       "            <circle r=\"6\"/>\n",
       "            <text fill=\"white\" id=\"finger0\" y=\"4\" text-anchor=\"middle\"/>\n",
       "          </g>\n",
       "          <g id=\"closedString1\" transform=\"translate(20,0)\" style=\"visibility: visible;\">\n",
       "            <circle r=\"6\"/>\n",
       "            <text fill=\"white\" id=\"finger1\" y=\"4\" text-anchor=\"middle\">1</text>\n",
       "          </g>\n",
       "          <g id=\"closedString2\" transform=\"translate(40,-20)\" style=\"visibility: hidden;\">\n",
       "            <circle r=\"6\"/>\n",
       "            <text fill=\"white\" id=\"finger2\" y=\"4\" text-anchor=\"middle\"/>\n",
       "          </g>\n",
       "          <g id=\"closedString3\" transform=\"translate(60,-20)\" style=\"visibility: hidden;\">\n",
       "            <circle r=\"6\"/>\n",
       "            <text fill=\"white\" id=\"finger3\" y=\"4\" text-anchor=\"middle\"/>\n",
       "          </g>\n",
       "        </g>\n",
       "        <g id=\"openStrings\" transform=\"translate(1,-5)\">\n",
       "          <circle id=\"openString0\" cx=\"0\" r=\"4\" fill=\"none\" stroke=\"black\" stroke-width=\"1\" style=\"visibility: visible;\"/>\n",
       "          <circle id=\"openString1\" cx=\"20\" r=\"4\" fill=\"none\" stroke=\"black\" stroke-width=\"1\" style=\"visibility: hidden;\"/>\n",
       "          <circle id=\"openString2\" cx=\"40\" r=\"4\" fill=\"none\" stroke=\"black\" stroke-width=\"1\" style=\"visibility: visible;\"/>\n",
       "          <circle id=\"openString3\" cx=\"60\" r=\"4\" fill=\"none\" stroke=\"black\" stroke-width=\"1\" style=\"visibility: visible;\"/>\n",
       "        </g>\n",
       "        <g id=\"subText\" transform=\"translate(1,98)\">\n",
       "          <text id=\"subText0\" x=\"0\" text-anchor=\"middle\"/>\n",
       "          <text id=\"subText1\" x=\"20\" text-anchor=\"middle\"/>\n",
       "          <text id=\"subText2\" x=\"40\" text-anchor=\"middle\"/>\n",
       "          <text id=\"subText3\" x=\"60\" text-anchor=\"middle\">R</text>\n",
       "        </g>\n",
       "      </g>\n",
       "        </g></svg>"
      ],
      "text/plain": [
       "<IPython.core.display.SVG object>"
      ]
     },
     "metadata": {},
     "output_type": "display_data"
    }
   ],
   "source": [
    "from IPython.display import SVG, display\n",
    "from uchord import Chords\n",
    "\n",
    "c = Chords([Chord(\"F7\",\"2313\",fingers=\"2314\",subtexts=\"__R_\"),\n",
    "            Chord(\"C7\",\"0001\",fingers=\"___1\",subtexts=\"_R__\"),\n",
    "            Chord(\"G7\",\"0212\",fingers=\"_213\",subtexts=\"R___\"),\n",
    "            Chord(\"A7\",\"0100\",fingers=\"_1__\",subtexts=\"___R\")])\n",
    "\n",
    "display(SVG(c.to_svg()))"
   ]
  },
  {
   "cell_type": "markdown",
   "metadata": {},
   "source": [
    "You can define your magic command for chords"
   ]
  },
  {
   "cell_type": "code",
   "execution_count": 8,
   "metadata": {
    "collapsed": true,
    "jupyter": {
     "outputs_hidden": true
    }
   },
   "outputs": [],
   "source": [
    "from IPython.core.magic import register_cell_magic\n",
    "from IPython.display import SVG, display\n",
    "\n",
    "from uchord import Chord, Chords\n",
    "\n",
    "@register_cell_magic\n",
    "def uchord(line, cell):\n",
    "    \n",
    "    lines = cell.splitlines()\n",
    "    chordlist = []\n",
    "    name = \"\" \n",
    "    frets = \"\"\n",
    "    starting_fret=1\n",
    "    fingers=\"\"\n",
    "    subtexts=\"\"\n",
    "    \n",
    "    for l in lines:\n",
    "        tokens = l.split(',')\n",
    "\n",
    "        name = tokens[0].strip()\n",
    "        frets = tokens[1].strip()\n",
    "        \n",
    "        for t in tokens[2:]:\n",
    "            arg = t.split('=')\n",
    "            argname = arg[0].strip()\n",
    "            if argname.upper() == \"FINGERS\":\n",
    "                fingers = arg[1].strip()\n",
    "            elif argname.upper() == \"SUBTEXTS\":\n",
    "                subtexts = arg[1].strip()\n",
    "            elif argname.upper() == \"STARTING_FRET\":\n",
    "                starting_fret = int(arg[1])\n",
    "                \n",
    "        chordlist.append(Chord(name, frets, fingers=fingers, subtexts=subtexts, starting_fret=starting_fret))\n",
    "    \n",
    "    return display(SVG(Chords(chordlist).to_svg()))"
   ]
  },
  {
   "cell_type": "markdown",
   "metadata": {},
   "source": [
    "to use"
   ]
  },
  {
   "cell_type": "code",
   "execution_count": 9,
   "metadata": {},
   "outputs": [
    {
     "data": {
      "image/svg+xml": [
       "<svg height=\"100%\" style=\"font-family: sans-serif; font-size: 11px;\" width=\"100%\" xmlns=\"http://www.w3.org/2000/svg\" xmlns:xlink=\"http://www.w3.org/1999/xlink\">\n",
       "        <g transform=\"translate(0,24)\">\n",
       "      <text id=\"chordName\" style=\"font-size: 16px;\" text-anchor=\"middle\" x=\"42\" y=\"12\">A7</text>\n",
       "      <text id=\"startingFret\" style=\"visibility: hidden;\" x=\"0\" y=\"40\">1</text>\n",
       "      <g id=\"svgChord\" transform=\"translate(9,24)\">\n",
       "        <g id=\"strings\" transform=\"translate(0,2)\">\n",
       "          <rect fill=\"black\" height=\"80\" width=\"2\" x=\"0\"/>\n",
       "          <rect fill=\"black\" height=\"80\" width=\"2\" x=\"20\"/>\n",
       "          <rect fill=\"black\" height=\"80\" width=\"2\" x=\"40\"/>\n",
       "          <rect fill=\"black\" height=\"80\" width=\"2\" x=\"60\"/>\n",
       "        </g>\n",
       "        <g id=\"frets\" transform=\"translate(0,2)\">\n",
       "          <rect fill=\"black\" height=\"2\" width=\"62\" y=\"0\"/>\n",
       "          <rect fill=\"black\" height=\"2\" width=\"62\" y=\"20\"/>\n",
       "          <rect fill=\"black\" height=\"2\" width=\"62\" y=\"40\"/>\n",
       "          <rect fill=\"black\" height=\"2\" width=\"62\" y=\"60\"/>\n",
       "          <rect fill=\"black\" height=\"2\" width=\"62\" y=\"80\"/>\n",
       "        </g>\n",
       "        <g id=\"closedStrings\" transform=\"translate(1,12)\">\n",
       "          <g id=\"closedString0\" style=\"visibility: hidden;\" transform=\"translate(0,-20)\">\n",
       "            <circle r=\"6\"/>\n",
       "            <text fill=\"white\" id=\"finger0\" text-anchor=\"middle\" y=\"4\"/>\n",
       "          </g>\n",
       "          <g id=\"closedString1\" style=\"visibility: visible;\" transform=\"translate(20,0)\">\n",
       "            <circle r=\"6\"/>\n",
       "            <text fill=\"white\" id=\"finger1\" text-anchor=\"middle\" y=\"4\">1</text>\n",
       "          </g>\n",
       "          <g id=\"closedString2\" style=\"visibility: hidden;\" transform=\"translate(40,-20)\">\n",
       "            <circle r=\"6\"/>\n",
       "            <text fill=\"white\" id=\"finger2\" text-anchor=\"middle\" y=\"4\"/>\n",
       "          </g>\n",
       "          <g id=\"closedString3\" style=\"visibility: hidden;\" transform=\"translate(60,-20)\">\n",
       "            <circle r=\"6\"/>\n",
       "            <text fill=\"white\" id=\"finger3\" text-anchor=\"middle\" y=\"4\"/>\n",
       "          </g>\n",
       "        </g>\n",
       "        <g id=\"openStrings\" transform=\"translate(1,-5)\">\n",
       "          <circle cx=\"0\" fill=\"none\" id=\"openString0\" r=\"4\" stroke=\"black\" stroke-width=\"1\" style=\"visibility: visible;\"/>\n",
       "          <circle cx=\"20\" fill=\"none\" id=\"openString1\" r=\"4\" stroke=\"black\" stroke-width=\"1\" style=\"visibility: hidden;\"/>\n",
       "          <circle cx=\"40\" fill=\"none\" id=\"openString2\" r=\"4\" stroke=\"black\" stroke-width=\"1\" style=\"visibility: visible;\"/>\n",
       "          <circle cx=\"60\" fill=\"none\" id=\"openString3\" r=\"4\" stroke=\"black\" stroke-width=\"1\" style=\"visibility: visible;\"/>\n",
       "        </g>\n",
       "        <g id=\"subText\" transform=\"translate(1,98)\">\n",
       "          <text id=\"subText0\" text-anchor=\"middle\" x=\"0\"/>\n",
       "          <text id=\"subText1\" text-anchor=\"middle\" x=\"20\"/>\n",
       "          <text id=\"subText2\" text-anchor=\"middle\" x=\"40\"/>\n",
       "          <text id=\"subText3\" text-anchor=\"middle\" x=\"60\">R</text>\n",
       "        </g>\n",
       "      </g>\n",
       "        </g><g transform=\"translate(80,24)\">\n",
       "      <text id=\"chordName\" style=\"font-size: 16px;\" text-anchor=\"middle\" x=\"42\" y=\"12\">G7</text>\n",
       "      <text id=\"startingFret\" style=\"visibility: hidden;\" x=\"0\" y=\"40\">1</text>\n",
       "      <g id=\"svgChord\" transform=\"translate(9,24)\">\n",
       "        <g id=\"strings\" transform=\"translate(0,2)\">\n",
       "          <rect fill=\"black\" height=\"80\" width=\"2\" x=\"0\"/>\n",
       "          <rect fill=\"black\" height=\"80\" width=\"2\" x=\"20\"/>\n",
       "          <rect fill=\"black\" height=\"80\" width=\"2\" x=\"40\"/>\n",
       "          <rect fill=\"black\" height=\"80\" width=\"2\" x=\"60\"/>\n",
       "        </g>\n",
       "        <g id=\"frets\" transform=\"translate(0,2)\">\n",
       "          <rect fill=\"black\" height=\"2\" width=\"62\" y=\"0\"/>\n",
       "          <rect fill=\"black\" height=\"2\" width=\"62\" y=\"20\"/>\n",
       "          <rect fill=\"black\" height=\"2\" width=\"62\" y=\"40\"/>\n",
       "          <rect fill=\"black\" height=\"2\" width=\"62\" y=\"60\"/>\n",
       "          <rect fill=\"black\" height=\"2\" width=\"62\" y=\"80\"/>\n",
       "        </g>\n",
       "        <g id=\"closedStrings\" transform=\"translate(1,12)\">\n",
       "          <g id=\"closedString0\" style=\"visibility: hidden;\" transform=\"translate(0,-20)\">\n",
       "            <circle r=\"6\"/>\n",
       "            <text fill=\"white\" id=\"finger0\" text-anchor=\"middle\" y=\"4\"/>\n",
       "          </g>\n",
       "          <g id=\"closedString1\" style=\"visibility: visible;\" transform=\"translate(20,20)\">\n",
       "            <circle r=\"6\"/>\n",
       "            <text fill=\"white\" id=\"finger1\" text-anchor=\"middle\" y=\"4\">2</text>\n",
       "          </g>\n",
       "          <g id=\"closedString2\" style=\"visibility: visible;\" transform=\"translate(40,0)\">\n",
       "            <circle r=\"6\"/>\n",
       "            <text fill=\"white\" id=\"finger2\" text-anchor=\"middle\" y=\"4\">1</text>\n",
       "          </g>\n",
       "          <g id=\"closedString3\" style=\"visibility: visible;\" transform=\"translate(60,20)\">\n",
       "            <circle r=\"6\"/>\n",
       "            <text fill=\"white\" id=\"finger3\" text-anchor=\"middle\" y=\"4\">3</text>\n",
       "          </g>\n",
       "        </g>\n",
       "        <g id=\"openStrings\" transform=\"translate(1,-5)\">\n",
       "          <circle cx=\"0\" fill=\"none\" id=\"openString0\" r=\"4\" stroke=\"black\" stroke-width=\"1\" style=\"visibility: visible;\"/>\n",
       "          <circle cx=\"20\" fill=\"none\" id=\"openString1\" r=\"4\" stroke=\"black\" stroke-width=\"1\" style=\"visibility: hidden;\"/>\n",
       "          <circle cx=\"40\" fill=\"none\" id=\"openString2\" r=\"4\" stroke=\"black\" stroke-width=\"1\" style=\"visibility: hidden;\"/>\n",
       "          <circle cx=\"60\" fill=\"none\" id=\"openString3\" r=\"4\" stroke=\"black\" stroke-width=\"1\" style=\"visibility: hidden;\"/>\n",
       "        </g>\n",
       "        <g id=\"subText\" transform=\"translate(1,98)\">\n",
       "          <text id=\"subText0\" text-anchor=\"middle\" x=\"0\">R</text>\n",
       "          <text id=\"subText1\" text-anchor=\"middle\" x=\"20\"/>\n",
       "          <text id=\"subText2\" text-anchor=\"middle\" x=\"40\"/>\n",
       "          <text id=\"subText3\" text-anchor=\"middle\" x=\"60\">3</text>\n",
       "        </g>\n",
       "      </g>\n",
       "        </g><g transform=\"translate(160,24)\">\n",
       "      <text id=\"chordName\" style=\"font-size: 16px;\" text-anchor=\"middle\" x=\"42\" y=\"12\">F7</text>\n",
       "      <text id=\"startingFret\" style=\"visibility: hidden;\" x=\"0\" y=\"40\">1</text>\n",
       "      <g id=\"svgChord\" transform=\"translate(9,24)\">\n",
       "        <g id=\"strings\" transform=\"translate(0,2)\">\n",
       "          <rect fill=\"black\" height=\"80\" width=\"2\" x=\"0\"/>\n",
       "          <rect fill=\"black\" height=\"80\" width=\"2\" x=\"20\"/>\n",
       "          <rect fill=\"black\" height=\"80\" width=\"2\" x=\"40\"/>\n",
       "          <rect fill=\"black\" height=\"80\" width=\"2\" x=\"60\"/>\n",
       "        </g>\n",
       "        <g id=\"frets\" transform=\"translate(0,2)\">\n",
       "          <rect fill=\"black\" height=\"2\" width=\"62\" y=\"0\"/>\n",
       "          <rect fill=\"black\" height=\"2\" width=\"62\" y=\"20\"/>\n",
       "          <rect fill=\"black\" height=\"2\" width=\"62\" y=\"40\"/>\n",
       "          <rect fill=\"black\" height=\"2\" width=\"62\" y=\"60\"/>\n",
       "          <rect fill=\"black\" height=\"2\" width=\"62\" y=\"80\"/>\n",
       "        </g>\n",
       "        <g id=\"closedStrings\" transform=\"translate(1,12)\">\n",
       "          <g id=\"closedString0\" style=\"visibility: visible;\" transform=\"translate(0,20)\">\n",
       "            <circle r=\"6\"/>\n",
       "            <text fill=\"white\" id=\"finger0\" text-anchor=\"middle\" y=\"4\">2</text>\n",
       "          </g>\n",
       "          <g id=\"closedString1\" style=\"visibility: visible;\" transform=\"translate(20,40)\">\n",
       "            <circle r=\"6\"/>\n",
       "            <text fill=\"white\" id=\"finger1\" text-anchor=\"middle\" y=\"4\">3</text>\n",
       "          </g>\n",
       "          <g id=\"closedString2\" style=\"visibility: visible;\" transform=\"translate(40,0)\">\n",
       "            <circle r=\"6\"/>\n",
       "            <text fill=\"white\" id=\"finger2\" text-anchor=\"middle\" y=\"4\">1</text>\n",
       "          </g>\n",
       "          <g id=\"closedString3\" style=\"visibility: visible;\" transform=\"translate(60,40)\">\n",
       "            <circle r=\"6\"/>\n",
       "            <text fill=\"white\" id=\"finger3\" text-anchor=\"middle\" y=\"4\">4</text>\n",
       "          </g>\n",
       "        </g>\n",
       "        <g id=\"openStrings\" transform=\"translate(1,-5)\">\n",
       "          <circle cx=\"0\" fill=\"none\" id=\"openString0\" r=\"4\" stroke=\"black\" stroke-width=\"1\" style=\"visibility: hidden;\"/>\n",
       "          <circle cx=\"20\" fill=\"none\" id=\"openString1\" r=\"4\" stroke=\"black\" stroke-width=\"1\" style=\"visibility: hidden;\"/>\n",
       "          <circle cx=\"40\" fill=\"none\" id=\"openString2\" r=\"4\" stroke=\"black\" stroke-width=\"1\" style=\"visibility: hidden;\"/>\n",
       "          <circle cx=\"60\" fill=\"none\" id=\"openString3\" r=\"4\" stroke=\"black\" stroke-width=\"1\" style=\"visibility: hidden;\"/>\n",
       "        </g>\n",
       "        <g id=\"subText\" transform=\"translate(1,98)\">\n",
       "          <text id=\"subText0\" text-anchor=\"middle\" x=\"0\"/>\n",
       "          <text id=\"subText1\" text-anchor=\"middle\" x=\"20\"/>\n",
       "          <text id=\"subText2\" text-anchor=\"middle\" x=\"40\">R</text>\n",
       "          <text id=\"subText3\" text-anchor=\"middle\" x=\"60\">5</text>\n",
       "        </g>\n",
       "      </g>\n",
       "        </g><g transform=\"translate(240,24)\">\n",
       "      <text id=\"chordName\" style=\"font-size: 16px;\" text-anchor=\"middle\" x=\"42\" y=\"12\">C7</text>\n",
       "      <text id=\"startingFret\" style=\"visibility: hidden;\" x=\"0\" y=\"40\">1</text>\n",
       "      <g id=\"svgChord\" transform=\"translate(9,24)\">\n",
       "        <g id=\"strings\" transform=\"translate(0,2)\">\n",
       "          <rect fill=\"black\" height=\"80\" width=\"2\" x=\"0\"/>\n",
       "          <rect fill=\"black\" height=\"80\" width=\"2\" x=\"20\"/>\n",
       "          <rect fill=\"black\" height=\"80\" width=\"2\" x=\"40\"/>\n",
       "          <rect fill=\"black\" height=\"80\" width=\"2\" x=\"60\"/>\n",
       "        </g>\n",
       "        <g id=\"frets\" transform=\"translate(0,2)\">\n",
       "          <rect fill=\"black\" height=\"2\" width=\"62\" y=\"0\"/>\n",
       "          <rect fill=\"black\" height=\"2\" width=\"62\" y=\"20\"/>\n",
       "          <rect fill=\"black\" height=\"2\" width=\"62\" y=\"40\"/>\n",
       "          <rect fill=\"black\" height=\"2\" width=\"62\" y=\"60\"/>\n",
       "          <rect fill=\"black\" height=\"2\" width=\"62\" y=\"80\"/>\n",
       "        </g>\n",
       "        <g id=\"closedStrings\" transform=\"translate(1,12)\">\n",
       "          <g id=\"closedString0\" style=\"visibility: hidden;\" transform=\"translate(0,-20)\">\n",
       "            <circle r=\"6\"/>\n",
       "            <text fill=\"white\" id=\"finger0\" text-anchor=\"middle\" y=\"4\"/>\n",
       "          </g>\n",
       "          <g id=\"closedString1\" style=\"visibility: hidden;\" transform=\"translate(20,-20)\">\n",
       "            <circle r=\"6\"/>\n",
       "            <text fill=\"white\" id=\"finger1\" text-anchor=\"middle\" y=\"4\"/>\n",
       "          </g>\n",
       "          <g id=\"closedString2\" style=\"visibility: hidden;\" transform=\"translate(40,-20)\">\n",
       "            <circle r=\"6\"/>\n",
       "            <text fill=\"white\" id=\"finger2\" text-anchor=\"middle\" y=\"4\"/>\n",
       "          </g>\n",
       "          <g id=\"closedString3\" style=\"visibility: visible;\" transform=\"translate(60,0)\">\n",
       "            <circle r=\"6\"/>\n",
       "            <text fill=\"white\" id=\"finger3\" text-anchor=\"middle\" y=\"4\">1</text>\n",
       "          </g>\n",
       "        </g>\n",
       "        <g id=\"openStrings\" transform=\"translate(1,-5)\">\n",
       "          <circle cx=\"0\" fill=\"none\" id=\"openString0\" r=\"4\" stroke=\"black\" stroke-width=\"1\" style=\"visibility: visible;\"/>\n",
       "          <circle cx=\"20\" fill=\"none\" id=\"openString1\" r=\"4\" stroke=\"black\" stroke-width=\"1\" style=\"visibility: visible;\"/>\n",
       "          <circle cx=\"40\" fill=\"none\" id=\"openString2\" r=\"4\" stroke=\"black\" stroke-width=\"1\" style=\"visibility: visible;\"/>\n",
       "          <circle cx=\"60\" fill=\"none\" id=\"openString3\" r=\"4\" stroke=\"black\" stroke-width=\"1\" style=\"visibility: hidden;\"/>\n",
       "        </g>\n",
       "        <g id=\"subText\" transform=\"translate(1,98)\">\n",
       "          <text id=\"subText0\" text-anchor=\"middle\" x=\"0\"/>\n",
       "          <text id=\"subText1\" text-anchor=\"middle\" x=\"20\">R</text>\n",
       "          <text id=\"subText2\" text-anchor=\"middle\" x=\"40\"/>\n",
       "          <text id=\"subText3\" text-anchor=\"middle\" x=\"60\">7</text>\n",
       "        </g>\n",
       "      </g>\n",
       "        </g></svg>"
      ],
      "text/plain": [
       "<IPython.core.display.SVG object>"
      ]
     },
     "metadata": {},
     "output_type": "display_data"
    }
   ],
   "source": [
    "%%uchord\n",
    "A7, 0100, fingers=_1__, subtexts=___R\n",
    "G7, 0212, fingers=_213, subtexts=R__3\n",
    "F7, 2313, fingers=2314, subtexts=__R5\n",
    "C7, 0001, fingers=___1, subtexts=_R_7"
   ]
  },
  {
   "cell_type": "markdown",
   "metadata": {},
   "source": [
    "# Source"
   ]
  },
  {
   "cell_type": "markdown",
   "metadata": {},
   "source": [
    "uke-chord https://github.com/pianosnake/uke-chord"
   ]
  },
  {
   "cell_type": "markdown",
   "metadata": {},
   "source": [
    "How to read chord https://ukulele-chords.com/faq/how-to-read-chord"
   ]
  },
  {
   "cell_type": "code",
   "execution_count": null,
   "metadata": {
    "collapsed": true,
    "jupyter": {
     "outputs_hidden": true
    }
   },
   "outputs": [],
   "source": []
  }
 ],
 "metadata": {
  "kernelspec": {
   "display_name": "Python 3",
   "language": "python",
   "name": "python3"
  },
  "language_info": {
   "codemirror_mode": {
    "name": "ipython",
    "version": 3
   },
   "file_extension": ".py",
   "mimetype": "text/x-python",
   "name": "python",
   "nbconvert_exporter": "python",
   "pygments_lexer": "ipython3",
   "version": "3.8.10"
  }
 },
 "nbformat": 4,
 "nbformat_minor": 4
}
