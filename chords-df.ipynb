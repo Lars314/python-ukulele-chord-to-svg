{
 "cells": [
  {
   "cell_type": "code",
   "execution_count": 6,
   "id": "8085f758-d1ff-4b5e-9003-b229e09f8a58",
   "metadata": {},
   "outputs": [],
   "source": [
    "import pandas as pd"
   ]
  },
  {
   "cell_type": "markdown",
   "id": "bc764820-637a-43f7-9bc7-0a1b96a97b41",
   "metadata": {},
   "source": [
    "## chords-df.pynb\n",
    "\n",
    "Generate a csv file with chords formatted nicely for `python-ukulele-chord-to-svg-master` "
   ]
  },
  {
   "cell_type": "code",
   "execution_count": 7,
   "id": "4d1a5fa8-85dd-4220-a7b3-e65e215c968e",
   "metadata": {},
   "outputs": [],
   "source": [
    "all_chords = [[\"C\", \"0003\"], [\"C7\", \"0001\"], [\"Cm\", \"0333\"], [\"Cm7\", \"3333\"], [\"Cdim\", \"2323\"],\n",
    "              [\"Caug\", \"1003\"], [\"C6\", \"0000\"], [\"Cmaj7\", \"0002\"], [\"C9\", \"0201\"],\n",
    "              [\"Db\", \"1113\"], [\"Db7\", \"1112\"], [\"Dbm\", \"1103\"], [\"Dbm7\", \"4444\"], [\"Dbdim\", \"0101\"],\n",
    "              [\"Dbaug\", \"2110\"], [\"Db6\", \"1111\"], [\"Dbmaj7\", \"1113\"], [\"Db9\", \"1312\"],\n",
    "              [\"D\", \"2225\"], [\"D7\", \"2223\"], [\"Dm\", \"2210\"], [\"Dm7\", \"2213\"], [\"Ddim\", \"1212\"],\n",
    "              [\"Daug\", \"3221\"], [\"D6\", \"2222\"], [\"Dmaj7\", \"2224\"], [\"D9\", \"2423\"],\n",
    "              [\"Eb\", \"3331\"], [\"Eb7\", \"3334\"], [\"Ebm\", \"3321\"], [\"Ebm7\", \"3324\"], [\"Ebdim\", \"2323\"],\n",
    "              [\"Ebaug\", \"2114\"], [\"Eb6\", \"3333\"], [\"Ebmaj7\", \"3330\"], [\"Eb9\", \"0111\"],\n",
    "              [\"E\", \"4442\"], [\"E7\", \"1202\"], [\"Em\", \"0432\"], [\"Em7\", \"0202\"], [\"Edim\", \"0101\"],\n",
    "              [\"Eaug\", \"1003\"], [\"E9\", \"1222\"], [\"E6\", \"1020\"], [\"Emaj7\", \"1302\"],\n",
    "              [\"F\", \"2010\"], [\"F7\", \"2310\"], [\"Fm\", \"1013\"], [\"Fm7\", \"1313\"], [\"Fdim\", \"1212\"],\n",
    "              [\"Faug\", \"2110\"], [\"F6\", \"2213\"], [\"Fmaj7\", \"2413\"], [\"F9\", \"2333\"],\n",
    "              [\"Gb\", \"3121\"], [\"Gb7\", \"3424\"], [\"Gbm\", \"2120\"], [\"Gbm7\", \"2424\"], [\"Gbdim\", \"2323\"],\n",
    "              [\"Gbaug\", \"4322\"], [\"Gb6\", \"3324\"], [\"Gbmaj7\", \"0111\"], [\"Gb9\", \"1101\"],\n",
    "              [\"G\", \"0232\"], [\"G7\", \"0212\"], [\"Gm\", \"0231\"], [\"Gm7\", \"0211\"], [\"Gdim\", \"0101\"],\n",
    "              [\"Gaug\", \"4332\"], [\"G6\", \"0202\"], [\"Gmaj7\", \"0222\"], [\"G9\", \"2212\"],\n",
    "              [\"Ab\", \"5343\"], [\"Ab7\", \"1323\"], [\"Abm\", \"1342\"], [\"Abm7\", \"0322\"], [\"Abdim\", \"1212\"],\n",
    "              [\"Abaug\", \"1003\"], [\"Ab6\", \"1313\"], [\"Abmaj7\", \"1333\"], [\"Ab9\", \"3323\"],\n",
    "              [\"A\", \"2100\"], [\"A7\", \"0100\"], [\"Am\", \"2000\"], [\"Am7\", \"0000\"], [\"Adim\", \"2323\"],\n",
    "              [\"Aaug\", \"2111\"], [\"A6\", \"2424\"], [\"Amaj7\", \"1100\"], [\"A9\", \"0102\"],\n",
    "              [\"Bb\", \"3211\"], [\"Bb7\", \"1211\"], [\"Bbm\", \"3111\"], [\"Bbm7\", \"1111\"], [\"Bbdim\", \"0101\"],\n",
    "              [\"Bbaug\", \"3221\"], [\"Bb6\", \"0211\"], [\"Bbmaj7\", \"3210\"], [\"Bb9\", \"1213\"],\n",
    "              [\"B\", \"4322\"], [\"B7\", \"2322\"], [\"Bm\", \"4222\"], [\"Bm7\", \"2222\"], [\"Bdim\", \"1212\"],\n",
    "              [\"Baug\", \"4332\"], [\"B6\", \"1322\"], [\"Bmaj7\", \"3322\"], [\"B9\", \"2324\"]\n",
    "             ]"
   ]
  },
  {
   "cell_type": "code",
   "execution_count": 8,
   "id": "0c37e931-9e5a-49f4-b830-adb1f8f381aa",
   "metadata": {},
   "outputs": [
    {
     "name": "stdout",
     "output_type": "stream",
     "text": [
      "108 chords\n"
     ]
    },
    {
     "data": {
      "text/html": [
       "<div>\n",
       "<style scoped>\n",
       "    .dataframe tbody tr th:only-of-type {\n",
       "        vertical-align: middle;\n",
       "    }\n",
       "\n",
       "    .dataframe tbody tr th {\n",
       "        vertical-align: top;\n",
       "    }\n",
       "\n",
       "    .dataframe thead th {\n",
       "        text-align: right;\n",
       "    }\n",
       "</style>\n",
       "<table border=\"1\" class=\"dataframe\">\n",
       "  <thead>\n",
       "    <tr style=\"text-align: right;\">\n",
       "      <th></th>\n",
       "      <th>name</th>\n",
       "      <th>frets</th>\n",
       "    </tr>\n",
       "  </thead>\n",
       "  <tbody>\n",
       "    <tr>\n",
       "      <th>0</th>\n",
       "      <td>C</td>\n",
       "      <td>0003</td>\n",
       "    </tr>\n",
       "    <tr>\n",
       "      <th>1</th>\n",
       "      <td>C7</td>\n",
       "      <td>0001</td>\n",
       "    </tr>\n",
       "    <tr>\n",
       "      <th>2</th>\n",
       "      <td>Cm</td>\n",
       "      <td>0333</td>\n",
       "    </tr>\n",
       "    <tr>\n",
       "      <th>3</th>\n",
       "      <td>Cm7</td>\n",
       "      <td>3333</td>\n",
       "    </tr>\n",
       "    <tr>\n",
       "      <th>4</th>\n",
       "      <td>Cdim</td>\n",
       "      <td>2323</td>\n",
       "    </tr>\n",
       "  </tbody>\n",
       "</table>\n",
       "</div>"
      ],
      "text/plain": [
       "   name frets\n",
       "0     C  0003\n",
       "1    C7  0001\n",
       "2    Cm  0333\n",
       "3   Cm7  3333\n",
       "4  Cdim  2323"
      ]
     },
     "execution_count": 8,
     "metadata": {},
     "output_type": "execute_result"
    }
   ],
   "source": [
    "chord_df = pd.DataFrame(all_chords, columns=[\"name\", \"frets\"])\n",
    "print(\"{0} chords\".format(len(chord_df)))\n",
    "chord_df.head()"
   ]
  },
  {
   "cell_type": "code",
   "execution_count": 9,
   "id": "cb230c8a-ea96-403c-9080-6a3350ffeba7",
   "metadata": {},
   "outputs": [],
   "source": [
    "chord_df.to_csv(\"./chords.csv\", index=False)"
   ]
  },
  {
   "cell_type": "code",
   "execution_count": null,
   "id": "1741d986-4674-4de0-9d93-eab9e858b31b",
   "metadata": {},
   "outputs": [],
   "source": []
  }
 ],
 "metadata": {
  "kernelspec": {
   "display_name": "Python 3",
   "language": "python",
   "name": "python3"
  },
  "language_info": {
   "codemirror_mode": {
    "name": "ipython",
    "version": 3
   },
   "file_extension": ".py",
   "mimetype": "text/x-python",
   "name": "python",
   "nbconvert_exporter": "python",
   "pygments_lexer": "ipython3",
   "version": "3.8.10"
  }
 },
 "nbformat": 4,
 "nbformat_minor": 5
}
